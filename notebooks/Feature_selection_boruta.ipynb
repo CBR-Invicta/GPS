{
 "cells": [
  {
   "cell_type": "code",
   "execution_count": 1,
   "metadata": {},
   "outputs": [],
   "source": [
    "import sys\n",
    "import os\n",
    "from dotenv import load_dotenv\n",
    "load_dotenv()\n",
    "DATA_PATH = os.environ.get(\"data_path\")\n",
    "sys.path.insert(0, os.getenv('lib_path'))\n",
    "sys.path.insert(0, os.getenv('root_path'))"
   ]
  },
  {
   "cell_type": "code",
   "execution_count": 2,
   "metadata": {},
   "outputs": [],
   "source": [
    "import pickle\n",
    "import datetime\n",
    "import pandas as pd\n",
    "from lib.read_data import read_data\n",
    "from lib.read_data_2015 import read_data_2015\n"
   ]
  },
  {
   "cell_type": "code",
   "execution_count": 3,
   "metadata": {},
   "outputs": [],
   "source": [
    "from lib.filter_data import filter_data"
   ]
  },
  {
   "cell_type": "code",
   "execution_count": 4,
   "metadata": {},
   "outputs": [],
   "source": [
    "from lib.boruta_selector import boruta_select_cols"
   ]
  },
  {
   "cell_type": "code",
   "execution_count": 5,
   "metadata": {},
   "outputs": [],
   "source": [
    "%load_ext autoreload\n",
    "%load_ext blackcellmagic\n",
    "%autoreload 2"
   ]
  },
  {
   "attachments": {},
   "cell_type": "markdown",
   "metadata": {},
   "source": [
    "# Read data"
   ]
  },
  {
   "cell_type": "code",
   "execution_count": null,
   "metadata": {},
   "outputs": [],
   "source": [
    "data_900 = read_data(\n",
    "    DATA_PATH,\n",
    "    merge_with_meds=True,\n",
    "    merge_with_patient_genes=True,\n",
    ")\n",
    "data_900_df = data_900.input_df\n",
    "data_2015_df = read_data_2015(DATA_PATH)"
   ]
  },
  {
   "cell_type": "code",
   "execution_count": 7,
   "metadata": {},
   "outputs": [],
   "source": [
    "from lib.column_sets import prepare_column_sets"
   ]
  },
  {
   "cell_type": "code",
   "execution_count": 8,
   "metadata": {},
   "outputs": [],
   "source": [
    "COL_SETS = prepare_column_sets(data_900, data_2015_df)"
   ]
  },
  {
   "cell_type": "code",
   "execution_count": 12,
   "metadata": {},
   "outputs": [
    {
     "data": {
      "text/plain": [
       "dict_keys(['DS1_PECH_COLS', 'MODULATED_COLS', 'DS1_RESULT_COLS', 'VARIOUS_COLS_900', 'BODY_COLS_900', 'HORMONE_COLS_900', 'HORMONE_NORMS_COLS_900', 'HORMONE_NORMS_VALID_IN_TIME_COLS_900', 'VALID_SUM_DOSES_COLS_900', 'VALID_SUM_DOSES_AND_DAYS_DIFF_COLS_900', 'CAUSE_COLS_900', 'VARIOUS_COLS_2015', 'HORMONE_COLS_2015', 'HORMONE_NORMS_COLS_2015', 'HORMONE_NORMS_VALID_IN_TIME_COLS_2015', 'FSH_NORM_CYCLED_COLS_2015', 'CAUSE_COLS_2015'])"
      ]
     },
     "execution_count": 12,
     "metadata": {},
     "output_type": "execute_result"
    }
   ],
   "source": [
    "COL_SETS.__dict__.keys()"
   ]
  },
  {
   "attachments": {},
   "cell_type": "markdown",
   "metadata": {},
   "source": [
    "# Try selected columns"
   ]
  },
  {
   "cell_type": "code",
   "execution_count": 98,
   "metadata": {},
   "outputs": [],
   "source": [
    "test_columns_900 = [\n",
    "    'ds1_pech_licz_14_pow',\n",
    "    'ds1_pech_licz_18_pow',\n",
    "    'ds1_pech_licz_11_pow',\n",
    "    'ds1_pech_licz_10_pon',\n",
    "\n",
    "    'bmi',\n",
    "    'test_amh_r',\n",
    "    'patient_age',\n",
    "    'test_inhibina_b_r',\n",
    "    'test_tsh_r',\n",
    "    'test_e2_r',\n",
    "    'test_fsh_r',\n",
    "    'test_lh_r',\n",
    "    'test_testosterone_r',\n",
    "    'test_shbg_r',\n",
    "    'test_dhea_s_r',\n",
    "    \"prev_proc-cumulus_denuded\",\n",
    "    \"prev_proc-day_0_mii\",\n",
    "    \n",
    "    'cause_idiopathic',\n",
    "    'cause_tubal',\n",
    "    'cause_pco',\n",
    "    'cause_genetic_female',\n",
    "    'cause_endocrine_thyroid',\n",
    "    'cause_endocrine_other',\n",
    "    'cause_immuno',\n",
    "    'cause_rpl_rif',\n",
    "    'cause_low_ovar_res',\n",
    "    'cause_poi',\n",
    "    'cause_endometriosis'\n",
    "]"
   ]
  },
  {
   "cell_type": "code",
   "execution_count": 73,
   "metadata": {},
   "outputs": [
    {
     "name": "stdout",
     "output_type": "stream",
     "text": [
      "(516, 1618)\n"
     ]
    }
   ],
   "source": [
    "data_900_modelling = data_900_df.loc[data_900_df.test_amh_r.notna()&data_900_df.day_0_mii.notna()].copy()\n",
    "data_900_modelling.cause_pco = data_900_modelling.cause_pco.cat.codes\n",
    "data_900_modelling = filter_data(\n",
    "    data_900_modelling, ~data_900_modelling[\"process_type\"].isin([\"DAWKJ\", \"BIOKJ\", \"DD\", \"DS\"])\n",
    ")\n",
    "data_900_modelling = filter_data(\n",
    "    data_900_modelling, ~data_900_modelling[\"lek_Gonadotropiny\"].str.contains(\"Elonva\")\n",
    ")\n",
    "data_900_modelling = filter_data(data_900_modelling, data_900_modelling[\"ds1_3_dawka_dzienna\"] < 1250)\n",
    "data_900_modelling = filter_data(data_900_modelling, data_900_modelling[\"test_amh_r\"] < 15.0)\n",
    "print(data_900_modelling.shape)\n",
    "data_900_modelling.reset_index(inplace=True,drop=True)"
   ]
  },
  {
   "cell_type": "code",
   "execution_count": 12,
   "metadata": {},
   "outputs": [],
   "source": [
    "from xgboost import XGBRegressor"
   ]
  },
  {
   "cell_type": "code",
   "execution_count": 15,
   "metadata": {},
   "outputs": [],
   "source": [
    "from boruta import BorutaPy"
   ]
  },
  {
   "cell_type": "code",
   "execution_count": 22,
   "metadata": {},
   "outputs": [],
   "source": [
    "import lightgbm as lgb"
   ]
  },
  {
   "cell_type": "code",
   "execution_count": 75,
   "metadata": {},
   "outputs": [],
   "source": [
    "# sampling in proportion to y labels\n",
    "\n",
    "rf = lgb.LGBMRegressor(n_jobs=-1, max_depth=5, n_estimators = 500, max_leaf_nodes= 5)\n",
    "\n",
    "#rf = GradientBoostingClassifier(max_depth=3)\n"
   ]
  },
  {
   "attachments": {},
   "cell_type": "markdown",
   "metadata": {},
   "source": [
    "# To use Boruta that allows for missing data in X, use BorutaPyForLGB class"
   ]
  },
  {
   "cell_type": "code",
   "execution_count": 76,
   "metadata": {},
   "outputs": [],
   "source": [
    "from sklearn.utils import check_random_state\n",
    "import numpy as np\n",
    "\n",
    "class BorutaPyForLGB(BorutaPy):\n",
    "    def __init__(self, estimator, n_estimators=1000, perc=100, alpha=0.05,\n",
    "                 two_step=True, max_iter=100, random_state=None, verbose=0):\n",
    "        super().__init__(estimator, n_estimators, perc, alpha,\n",
    "                         two_step, max_iter, random_state, verbose)\n",
    "        self._is_lightgbm = 'lightgbm' in str(type(self.estimator))\n",
    "        \n",
    "    def _fit(self, X, y):\n",
    "        # check input params\n",
    "        # self._check_params(X, y)\n",
    "\n",
    "        if not isinstance(X, np.ndarray):\n",
    "            X = self._validate_pandas_input(X) \n",
    "        if not isinstance(y, np.ndarray):\n",
    "            y = self._validate_pandas_input(y)\n",
    "\n",
    "        self.random_state = check_random_state(self.random_state)\n",
    "        # setup variables for Boruta\n",
    "        n_sample, n_feat = X.shape\n",
    "        _iter = 1\n",
    "        # holds the decision about each feature:\n",
    "        # 0  - default state = tentative in original code\n",
    "        # 1  - accepted in original code\n",
    "        # -1 - rejected in original code\n",
    "        dec_reg = np.zeros(n_feat, dtype=np.int)\n",
    "        # counts how many times a given feature was more important than\n",
    "        # the best of the shadow features\n",
    "        hit_reg = np.zeros(n_feat, dtype=np.int)\n",
    "        # these record the history of the iterations\n",
    "        imp_history = np.zeros(n_feat, dtype=np.float)\n",
    "        sha_max_history = []\n",
    "\n",
    "        # set n_estimators\n",
    "        if self.n_estimators != 'auto':\n",
    "            self.estimator.set_params(n_estimators=self.n_estimators)\n",
    "\n",
    "        # main feature selection loop\n",
    "        while np.any(dec_reg == 0) and _iter < self.max_iter:\n",
    "            # find optimal number of trees and depth\n",
    "            if self.n_estimators == 'auto':\n",
    "                # number of features that aren't rejected\n",
    "                not_rejected = np.where(dec_reg >= 0)[0].shape[0]\n",
    "                n_tree = self._get_tree_num(not_rejected)\n",
    "                self.estimator.set_params(n_estimators=n_tree)\n",
    "\n",
    "            # make sure we start with a new tree in each iteration\n",
    "            if self._is_lightgbm:\n",
    "                self.estimator.set_params(random_state=self.random_state.randint(0, 10000))\n",
    "            else:\n",
    "                self.estimator.set_params(random_state=self.random_state)\n",
    "\n",
    "            # add shadow attributes, shuffle them and train estimator, get imps\n",
    "            cur_imp = self._add_shadows_get_imps(X, y, dec_reg)\n",
    "\n",
    "            # get the threshold of shadow importances we will use for rejection\n",
    "            imp_sha_max = np.percentile(cur_imp[1], self.perc)\n",
    "\n",
    "            # record importance history\n",
    "            sha_max_history.append(imp_sha_max)\n",
    "            imp_history = np.vstack((imp_history, cur_imp[0]))\n",
    "\n",
    "            # register which feature is more imp than the max of shadows\n",
    "            hit_reg = self._assign_hits(hit_reg, cur_imp, imp_sha_max)\n",
    "\n",
    "            # based on hit_reg we check if a feature is doing better than\n",
    "            # expected by chance\n",
    "            dec_reg = self._do_tests(dec_reg, hit_reg, _iter)\n",
    "\n",
    "            # print out confirmed features\n",
    "            if self.verbose > 0 and _iter < self.max_iter:\n",
    "                self._print_results(dec_reg, _iter, 0)\n",
    "            if _iter < self.max_iter:\n",
    "                _iter += 1\n",
    "\n",
    "        # we automatically apply R package's rough fix for tentative ones\n",
    "        confirmed = np.where(dec_reg == 1)[0]\n",
    "        tentative = np.where(dec_reg == 0)[0]\n",
    "        # ignore the first row of zeros\n",
    "        tentative_median = np.median(imp_history[1:, tentative], axis=0)\n",
    "        # which tentative to keep\n",
    "        tentative_confirmed = np.where(tentative_median\n",
    "                                       > np.median(sha_max_history))[0]\n",
    "        tentative = tentative[tentative_confirmed]\n",
    "\n",
    "        # basic result variables\n",
    "        self.n_features_ = confirmed.shape[0]\n",
    "        self.support_ = np.zeros(n_feat, dtype=np.bool)\n",
    "        self.support_[confirmed] = 1\n",
    "        self.support_weak_ = np.zeros(n_feat, dtype=np.bool)\n",
    "        self.support_weak_[tentative] = 1\n",
    "\n",
    "        # ranking, confirmed variables are rank 1\n",
    "        self.ranking_ = np.ones(n_feat, dtype=np.int)\n",
    "        # tentative variables are rank 2\n",
    "        self.ranking_[tentative] = 2\n",
    "        # selected = confirmed and tentative\n",
    "        selected = np.hstack((confirmed, tentative))\n",
    "        # all rejected features are sorted by importance history\n",
    "        not_selected = np.setdiff1d(np.arange(n_feat), selected)\n",
    "        # large importance values should rank higher = lower ranks -> *(-1)\n",
    "        imp_history_rejected = imp_history[1:, not_selected] * -1\n",
    "\n",
    "        # update rank for not_selected features\n",
    "        if not_selected.shape[0] > 0:\n",
    "                # calculate ranks in each iteration, then median of ranks across feats\n",
    "                iter_ranks = self._nanrankdata(imp_history_rejected, axis=1)\n",
    "                rank_medians = np.nanmedian(iter_ranks, axis=0)\n",
    "                ranks = self._nanrankdata(rank_medians, axis=0)\n",
    "\n",
    "                # set smallest rank to 3 if there are tentative feats\n",
    "                if tentative.shape[0] > 0:\n",
    "                    ranks = ranks - np.min(ranks) + 3\n",
    "                else:\n",
    "                    # and 2 otherwise\n",
    "                    ranks = ranks - np.min(ranks) + 2\n",
    "                self.ranking_[not_selected] = ranks\n",
    "        else:\n",
    "            # all are selected, thus we set feature supports to True\n",
    "            self.support_ = np.ones(n_feat, dtype=np.bool)\n",
    "\n",
    "        self.importance_history_ = imp_history\n",
    "\n",
    "        # notify user\n",
    "        if self.verbose > 0:\n",
    "            self._print_results(dec_reg, _iter, 1)\n",
    "        return self"
   ]
  },
  {
   "cell_type": "code",
   "execution_count": 77,
   "metadata": {},
   "outputs": [
    {
     "name": "stderr",
     "output_type": "stream",
     "text": [
      "`np.int` is a deprecated alias for the builtin `int`. To silence this warning, use `int` by itself. Doing this will not modify any behavior and is safe. When replacing `np.int`, you may wish to use e.g. `np.int64` or `np.int32` to specify the precision. If you wish to review your current use, check the release note link for additional information.\n",
      "Deprecated in NumPy 1.20; for more details and guidance: https://numpy.org/devdocs/release/1.20.0-notes.html#deprecations\n",
      "`np.int` is a deprecated alias for the builtin `int`. To silence this warning, use `int` by itself. Doing this will not modify any behavior and is safe. When replacing `np.int`, you may wish to use e.g. `np.int64` or `np.int32` to specify the precision. If you wish to review your current use, check the release note link for additional information.\n",
      "Deprecated in NumPy 1.20; for more details and guidance: https://numpy.org/devdocs/release/1.20.0-notes.html#deprecations\n",
      "`np.float` is a deprecated alias for the builtin `float`. To silence this warning, use `float` by itself. Doing this will not modify any behavior and is safe. If you specifically wanted the numpy scalar type, use `np.float64` here.\n",
      "Deprecated in NumPy 1.20; for more details and guidance: https://numpy.org/devdocs/release/1.20.0-notes.html#deprecations\n",
      "`np.bool` is a deprecated alias for the builtin `bool`. To silence this warning, use `bool` by itself. Doing this will not modify any behavior and is safe. If you specifically wanted the numpy scalar type, use `np.bool_` here.\n",
      "Deprecated in NumPy 1.20; for more details and guidance: https://numpy.org/devdocs/release/1.20.0-notes.html#deprecations\n",
      "`np.bool` is a deprecated alias for the builtin `bool`. To silence this warning, use `bool` by itself. Doing this will not modify any behavior and is safe. If you specifically wanted the numpy scalar type, use `np.bool_` here.\n",
      "Deprecated in NumPy 1.20; for more details and guidance: https://numpy.org/devdocs/release/1.20.0-notes.html#deprecations\n",
      "`np.int` is a deprecated alias for the builtin `int`. To silence this warning, use `int` by itself. Doing this will not modify any behavior and is safe. When replacing `np.int`, you may wish to use e.g. `np.int64` or `np.int32` to specify the precision. If you wish to review your current use, check the release note link for additional information.\n",
      "Deprecated in NumPy 1.20; for more details and guidance: https://numpy.org/devdocs/release/1.20.0-notes.html#deprecations\n"
     ]
    },
    {
     "data": {
      "text/html": [
       "<style>#sk-container-id-4 {color: black;background-color: white;}#sk-container-id-4 pre{padding: 0;}#sk-container-id-4 div.sk-toggleable {background-color: white;}#sk-container-id-4 label.sk-toggleable__label {cursor: pointer;display: block;width: 100%;margin-bottom: 0;padding: 0.3em;box-sizing: border-box;text-align: center;}#sk-container-id-4 label.sk-toggleable__label-arrow:before {content: \"▸\";float: left;margin-right: 0.25em;color: #696969;}#sk-container-id-4 label.sk-toggleable__label-arrow:hover:before {color: black;}#sk-container-id-4 div.sk-estimator:hover label.sk-toggleable__label-arrow:before {color: black;}#sk-container-id-4 div.sk-toggleable__content {max-height: 0;max-width: 0;overflow: hidden;text-align: left;background-color: #f0f8ff;}#sk-container-id-4 div.sk-toggleable__content pre {margin: 0.2em;color: black;border-radius: 0.25em;background-color: #f0f8ff;}#sk-container-id-4 input.sk-toggleable__control:checked~div.sk-toggleable__content {max-height: 200px;max-width: 100%;overflow: auto;}#sk-container-id-4 input.sk-toggleable__control:checked~label.sk-toggleable__label-arrow:before {content: \"▾\";}#sk-container-id-4 div.sk-estimator input.sk-toggleable__control:checked~label.sk-toggleable__label {background-color: #d4ebff;}#sk-container-id-4 div.sk-label input.sk-toggleable__control:checked~label.sk-toggleable__label {background-color: #d4ebff;}#sk-container-id-4 input.sk-hidden--visually {border: 0;clip: rect(1px 1px 1px 1px);clip: rect(1px, 1px, 1px, 1px);height: 1px;margin: -1px;overflow: hidden;padding: 0;position: absolute;width: 1px;}#sk-container-id-4 div.sk-estimator {font-family: monospace;background-color: #f0f8ff;border: 1px dotted black;border-radius: 0.25em;box-sizing: border-box;margin-bottom: 0.5em;}#sk-container-id-4 div.sk-estimator:hover {background-color: #d4ebff;}#sk-container-id-4 div.sk-parallel-item::after {content: \"\";width: 100%;border-bottom: 1px solid gray;flex-grow: 1;}#sk-container-id-4 div.sk-label:hover label.sk-toggleable__label {background-color: #d4ebff;}#sk-container-id-4 div.sk-serial::before {content: \"\";position: absolute;border-left: 1px solid gray;box-sizing: border-box;top: 0;bottom: 0;left: 50%;z-index: 0;}#sk-container-id-4 div.sk-serial {display: flex;flex-direction: column;align-items: center;background-color: white;padding-right: 0.2em;padding-left: 0.2em;position: relative;}#sk-container-id-4 div.sk-item {position: relative;z-index: 1;}#sk-container-id-4 div.sk-parallel {display: flex;align-items: stretch;justify-content: center;background-color: white;position: relative;}#sk-container-id-4 div.sk-item::before, #sk-container-id-4 div.sk-parallel-item::before {content: \"\";position: absolute;border-left: 1px solid gray;box-sizing: border-box;top: 0;bottom: 0;left: 50%;z-index: -1;}#sk-container-id-4 div.sk-parallel-item {display: flex;flex-direction: column;z-index: 1;position: relative;background-color: white;}#sk-container-id-4 div.sk-parallel-item:first-child::after {align-self: flex-end;width: 50%;}#sk-container-id-4 div.sk-parallel-item:last-child::after {align-self: flex-start;width: 50%;}#sk-container-id-4 div.sk-parallel-item:only-child::after {width: 0;}#sk-container-id-4 div.sk-dashed-wrapped {border: 1px dashed gray;margin: 0 0.4em 0.5em 0.4em;box-sizing: border-box;padding-bottom: 0.4em;background-color: white;}#sk-container-id-4 div.sk-label label {font-family: monospace;font-weight: bold;display: inline-block;line-height: 1.2em;}#sk-container-id-4 div.sk-label-container {text-align: center;}#sk-container-id-4 div.sk-container {/* jupyter's `normalize.less` sets `[hidden] { display: none; }` but bootstrap.min.css set `[hidden] { display: none !important; }` so we also need the `!important` here to be able to override the default hidden behavior on the sphinx rendered scikit-learn.org. See: https://github.com/scikit-learn/scikit-learn/issues/21755 */display: inline-block !important;position: relative;}#sk-container-id-4 div.sk-text-repr-fallback {display: none;}</style><div id=\"sk-container-id-4\" class=\"sk-top-container\"><div class=\"sk-text-repr-fallback\"><pre>BorutaPyForLGB(estimator=LGBMRegressor(max_depth=5, max_leaf_nodes=5,\n",
       "                                       n_estimators=40, random_state=1627),\n",
       "               n_estimators=&#x27;auto&#x27;,\n",
       "               random_state=RandomState(MT19937) at 0x7F438EDA5C40)</pre><b>In a Jupyter environment, please rerun this cell to show the HTML representation or trust the notebook. <br />On GitHub, the HTML representation is unable to render, please try loading this page with nbviewer.org.</b></div><div class=\"sk-container\" hidden><div class=\"sk-item sk-dashed-wrapped\"><div class=\"sk-label-container\"><div class=\"sk-label sk-toggleable\"><input class=\"sk-toggleable__control sk-hidden--visually\" id=\"sk-estimator-id-10\" type=\"checkbox\" ><label for=\"sk-estimator-id-10\" class=\"sk-toggleable__label sk-toggleable__label-arrow\">BorutaPyForLGB</label><div class=\"sk-toggleable__content\"><pre>BorutaPyForLGB(estimator=LGBMRegressor(max_depth=5, max_leaf_nodes=5,\n",
       "                                       n_estimators=40, random_state=1627),\n",
       "               n_estimators=&#x27;auto&#x27;,\n",
       "               random_state=RandomState(MT19937) at 0x7F438EDA5C40)</pre></div></div></div><div class=\"sk-parallel\"><div class=\"sk-parallel-item\"><div class=\"sk-item\"><div class=\"sk-label-container\"><div class=\"sk-label sk-toggleable\"><input class=\"sk-toggleable__control sk-hidden--visually\" id=\"sk-estimator-id-11\" type=\"checkbox\" ><label for=\"sk-estimator-id-11\" class=\"sk-toggleable__label sk-toggleable__label-arrow\">estimator: LGBMRegressor</label><div class=\"sk-toggleable__content\"><pre>LGBMRegressor(max_depth=5, max_leaf_nodes=5, n_estimators=40, random_state=1627)</pre></div></div></div><div class=\"sk-serial\"><div class=\"sk-item\"><div class=\"sk-estimator sk-toggleable\"><input class=\"sk-toggleable__control sk-hidden--visually\" id=\"sk-estimator-id-12\" type=\"checkbox\" ><label for=\"sk-estimator-id-12\" class=\"sk-toggleable__label sk-toggleable__label-arrow\">LGBMRegressor</label><div class=\"sk-toggleable__content\"><pre>LGBMRegressor(max_depth=5, max_leaf_nodes=5, n_estimators=40, random_state=1627)</pre></div></div></div></div></div></div></div></div></div></div>"
      ],
      "text/plain": [
       "BorutaPyForLGB(estimator=LGBMRegressor(max_depth=5, max_leaf_nodes=5,\n",
       "                                       n_estimators=40, random_state=1627),\n",
       "               n_estimators='auto',\n",
       "               random_state=RandomState(MT19937) at 0x7F438EDA5C40)"
      ]
     },
     "execution_count": 77,
     "metadata": {},
     "output_type": "execute_result"
    }
   ],
   "source": [
    "\n",
    "# define Boruta feature selection method\n",
    "feat_selector = BorutaPyForLGB(rf, n_estimators='auto', verbose=0, random_state=1)\n",
    "\n",
    "# find all relevant features - 5 features should be selected\n",
    "feat_selector.fit(data_900_modelling[test_columns_900].values, data_900_modelling['day_0_mii'].values.ravel())"
   ]
  },
  {
   "cell_type": "code",
   "execution_count": 78,
   "metadata": {},
   "outputs": [
    {
     "data": {
      "text/plain": [
       "{'ds1_pech_licz_14_pow': 15,\n",
       " 'ds1_pech_licz_18_pow': 20,\n",
       " 'ds1_pech_licz_11_pow': 16,\n",
       " 'ds1_pech_licz_10_pon': 1,\n",
       " 'bmi': 3,\n",
       " 'test_amh_r': 1,\n",
       " 'patient_age': 13,\n",
       " 'test_inhibina_b_r': 4,\n",
       " 'test_tsh_r': 2,\n",
       " 'test_e2_r': 7,\n",
       " 'test_fsh_r': 5,\n",
       " 'test_lh_r': 10,\n",
       " 'test_testosterone_r': 12,\n",
       " 'test_shbg_r': 11,\n",
       " 'test_dhea_s_r': 6,\n",
       " 'prev_proc-cumulus_denuded': 9,\n",
       " 'prev_proc-day_0_mii': 8,\n",
       " 'cause_idiopathic': 25,\n",
       " 'cause_tubal': 25,\n",
       " 'cause_pco': 14,\n",
       " 'cause_genetic_female': 25,\n",
       " 'cause_endocrine_thyroid': 21,\n",
       " 'cause_endocrine_other': 17,\n",
       " 'cause_immuno': 21,\n",
       " 'cause_rpl_rif': 19,\n",
       " 'cause_low_ovar_res': 25,\n",
       " 'cause_poi': 18,\n",
       " 'cause_endometriosis': 25}"
      ]
     },
     "execution_count": 78,
     "metadata": {},
     "output_type": "execute_result"
    }
   ],
   "source": [
    "dict(zip(test_columns_900,feat_selector.ranking_))"
   ]
  },
  {
   "cell_type": "code",
   "execution_count": 79,
   "metadata": {},
   "outputs": [
    {
     "data": {
      "text/plain": [
       "3    ds1_pech_licz_10_pon\n",
       "5              test_amh_r\n",
       "dtype: object"
      ]
     },
     "execution_count": 79,
     "metadata": {},
     "output_type": "execute_result"
    }
   ],
   "source": [
    "pd.Series(test_columns_900)[feat_selector.support_]"
   ]
  },
  {
   "attachments": {},
   "cell_type": "markdown",
   "metadata": {},
   "source": [
    "# Iterate backwards"
   ]
  },
  {
   "cell_type": "code",
   "execution_count": 80,
   "metadata": {},
   "outputs": [],
   "source": [
    "from lib.data_series import prepare_data_serie"
   ]
  },
  {
   "cell_type": "code",
   "execution_count": 81,
   "metadata": {},
   "outputs": [],
   "source": [
    "from lib.train import train_data_series"
   ]
  },
  {
   "cell_type": "code",
   "execution_count": 82,
   "metadata": {},
   "outputs": [],
   "source": [
    "LGB_PARAMS_BASE = {\n",
    "    \"metric\": [\"rmse\", \"mae\", \"mse\", \"mape\"],\n",
    "    \"boosting\": \"gbdt\",\n",
    "    \"learning_rate\": 0.05,\n",
    "    \"verbose\": -1,\n",
    "    \"num_leaves\": 16,\n",
    "    \"max_depth\": 64,\n",
    "    \"max_bin\": 63,\n",
    "    \"seed\": 42,\n",
    "    \"num_threads\": 10,\n",
    "    \"num_boost_round\": 500,\n",
    "    \"early_stopping_round\": 10\n",
    "}"
   ]
  },
  {
   "cell_type": "code",
   "execution_count": 99,
   "metadata": {},
   "outputs": [
    {
     "name": "stdout",
     "output_type": "stream",
     "text": [
      "====================================\n",
      "Original records: 516\n",
      "Filtered records: 516\n"
     ]
    }
   ],
   "source": [
    "DATA_SERIES_900 = {}\n",
    "DATA_SERIES_900['900_day_0_mii'] = prepare_data_serie(data_900_modelling, 'day_0_mii', 5)"
   ]
  },
  {
   "cell_type": "code",
   "execution_count": 84,
   "metadata": {},
   "outputs": [
    {
     "data": {
      "text/plain": [
       "3    ds1_pech_licz_10_pon\n",
       "5              test_amh_r\n",
       "dtype: object"
      ]
     },
     "execution_count": 84,
     "metadata": {},
     "output_type": "execute_result"
    }
   ],
   "source": [
    "pd.Series(test_columns_900)[feat_selector.support_]"
   ]
  },
  {
   "cell_type": "code",
   "execution_count": 85,
   "metadata": {},
   "outputs": [],
   "source": [
    "selected_cols = pd.Series(test_columns_900)[feat_selector.support_].tolist()"
   ]
  },
  {
   "cell_type": "code",
   "execution_count": 100,
   "metadata": {},
   "outputs": [
    {
     "name": "stdout",
     "output_type": "stream",
     "text": [
      "Using default observation_weights\n",
      "Using default observation_weights\n",
      "Using default observation_weights\n",
      "Using default observation_weights\n",
      "Using default observation_weights\n",
      "-\n",
      "\u001b[44mRMSE[ test_fold_avg][l2][900_day_0_mii]:      \u001b[0m count:516    avg:5.92   3.51    (0.00)    \n",
      "MAE[ test_fold_avg][l2][900_day_0_mii]:       \u001b[0m count:516    avg:5.92   2.60    (0.00)    \n",
      "MAPE[ test_fold_avg][l2][900_day_0_mii]:      \u001b[0m count:516    avg:5.92   0.72    (0.00)    \n",
      "LIKELIHOOD[ test_fold_avg][l2][900_day_0_mii]:\u001b[0m count:516    avg:5.92   3.30    (0.00)    \n",
      "MEDIAN_ABSOLUTE_ERROR[ test_fold_avg][l2][900_day_0_mii]:\u001b[0m count:516    avg:5.92   1.96    (0.00)    \n",
      "-----------------------------\n"
     ]
    }
   ],
   "source": [
    "Boruta_RESULTS = train_data_series(\n",
    "    LGB_PARAMS_BASE,\n",
    "    DATA_SERIES_900,\n",
    "    selected_cols,\n",
    "    model_suffixes_filter=['l2'])\n",
    "Boruta_RESULTS.print_errors(\n",
    "    [Boruta_RESULTS],\n",
    "    print_suffixes=['l2'],\n",
    "    print_avg=True,\n",
    ")"
   ]
  },
  {
   "cell_type": "code",
   "execution_count": 88,
   "metadata": {},
   "outputs": [],
   "source": [
    "order = dict(zip(test_columns_900,feat_selector.ranking_))"
   ]
  },
  {
   "cell_type": "code",
   "execution_count": 103,
   "metadata": {},
   "outputs": [],
   "source": [
    "order = dict(sorted(order.items(), key=lambda item: item[1], reverse=True))"
   ]
  },
  {
   "cell_type": "code",
   "execution_count": 96,
   "metadata": {},
   "outputs": [],
   "source": [
    "import shutup\n",
    "shutup.please()"
   ]
  },
  {
   "cell_type": "code",
   "execution_count": 105,
   "metadata": {},
   "outputs": [
    {
     "name": "stdout",
     "output_type": "stream",
     "text": [
      "Dropped cause_idiopathic\n",
      "-\n",
      "\u001b[44mRMSE[ test_fold_avg][l2][900_day_0_mii]:      \u001b[0m count:516    avg:5.92   3.52    (0.00)    \n",
      "MAE[ test_fold_avg][l2][900_day_0_mii]:       \u001b[0m count:516    avg:5.92   2.59    (0.00)    \n",
      "MAPE[ test_fold_avg][l2][900_day_0_mii]:      \u001b[0m count:516    avg:5.92   0.71    (0.00)    \n",
      "LIKELIHOOD[ test_fold_avg][l2][900_day_0_mii]:\u001b[0m count:516    avg:5.92   3.30    (0.00)    \n",
      "MEDIAN_ABSOLUTE_ERROR[ test_fold_avg][l2][900_day_0_mii]:\u001b[0m count:516    avg:5.92   2.01    (0.00)    \n",
      "-----------------------------\n",
      "Dropped cause_tubal\n",
      "-\n",
      "\u001b[44mRMSE[ test_fold_avg][l2][900_day_0_mii]:      \u001b[0m count:516    avg:5.92   3.52    (0.00)    \n",
      "MAE[ test_fold_avg][l2][900_day_0_mii]:       \u001b[0m count:516    avg:5.92   2.59    (0.00)    \n",
      "MAPE[ test_fold_avg][l2][900_day_0_mii]:      \u001b[0m count:516    avg:5.92   0.71    (0.00)    \n",
      "LIKELIHOOD[ test_fold_avg][l2][900_day_0_mii]:\u001b[0m count:516    avg:5.92   3.30    (0.00)    \n",
      "MEDIAN_ABSOLUTE_ERROR[ test_fold_avg][l2][900_day_0_mii]:\u001b[0m count:516    avg:5.92   2.01    (0.00)    \n",
      "-----------------------------\n",
      "Dropped cause_genetic_female\n",
      "-\n",
      "\u001b[44mRMSE[ test_fold_avg][l2][900_day_0_mii]:      \u001b[0m count:516    avg:5.92   3.52    (0.00)    \n",
      "MAE[ test_fold_avg][l2][900_day_0_mii]:       \u001b[0m count:516    avg:5.92   2.59    (0.00)    \n",
      "MAPE[ test_fold_avg][l2][900_day_0_mii]:      \u001b[0m count:516    avg:5.92   0.71    (0.00)    \n",
      "LIKELIHOOD[ test_fold_avg][l2][900_day_0_mii]:\u001b[0m count:516    avg:5.92   3.30    (0.00)    \n",
      "MEDIAN_ABSOLUTE_ERROR[ test_fold_avg][l2][900_day_0_mii]:\u001b[0m count:516    avg:5.92   2.01    (0.00)    \n",
      "-----------------------------\n",
      "Dropped cause_low_ovar_res\n",
      "-\n",
      "\u001b[44mRMSE[ test_fold_avg][l2][900_day_0_mii]:      \u001b[0m count:516    avg:5.92   3.52    (0.00)    \n",
      "MAE[ test_fold_avg][l2][900_day_0_mii]:       \u001b[0m count:516    avg:5.92   2.59    (0.00)    \n",
      "MAPE[ test_fold_avg][l2][900_day_0_mii]:      \u001b[0m count:516    avg:5.92   0.71    (0.00)    \n",
      "LIKELIHOOD[ test_fold_avg][l2][900_day_0_mii]:\u001b[0m count:516    avg:5.92   3.30    (0.00)    \n",
      "MEDIAN_ABSOLUTE_ERROR[ test_fold_avg][l2][900_day_0_mii]:\u001b[0m count:516    avg:5.92   2.01    (0.00)    \n",
      "-----------------------------\n",
      "Dropped cause_endometriosis\n",
      "-\n",
      "\u001b[44mRMSE[ test_fold_avg][l2][900_day_0_mii]:      \u001b[0m count:516    avg:5.92   3.52    (0.00)    \n",
      "MAE[ test_fold_avg][l2][900_day_0_mii]:       \u001b[0m count:516    avg:5.92   2.59    (0.00)    \n",
      "MAPE[ test_fold_avg][l2][900_day_0_mii]:      \u001b[0m count:516    avg:5.92   0.71    (0.00)    \n",
      "LIKELIHOOD[ test_fold_avg][l2][900_day_0_mii]:\u001b[0m count:516    avg:5.92   3.30    (0.00)    \n",
      "MEDIAN_ABSOLUTE_ERROR[ test_fold_avg][l2][900_day_0_mii]:\u001b[0m count:516    avg:5.92   2.01    (0.00)    \n",
      "-----------------------------\n",
      "Dropped cause_endocrine_thyroid\n",
      "-\n",
      "\u001b[44mRMSE[ test_fold_avg][l2][900_day_0_mii]:      \u001b[0m count:516    avg:5.92   3.52    (0.00)    \n",
      "MAE[ test_fold_avg][l2][900_day_0_mii]:       \u001b[0m count:516    avg:5.92   2.59    (0.00)    \n",
      "MAPE[ test_fold_avg][l2][900_day_0_mii]:      \u001b[0m count:516    avg:5.92   0.71    (0.00)    \n",
      "LIKELIHOOD[ test_fold_avg][l2][900_day_0_mii]:\u001b[0m count:516    avg:5.92   3.30    (0.00)    \n",
      "MEDIAN_ABSOLUTE_ERROR[ test_fold_avg][l2][900_day_0_mii]:\u001b[0m count:516    avg:5.92   2.01    (0.00)    \n",
      "-----------------------------\n",
      "Dropped cause_immuno\n",
      "-\n",
      "\u001b[44mRMSE[ test_fold_avg][l2][900_day_0_mii]:      \u001b[0m count:516    avg:5.92   3.52    (0.00)    \n",
      "MAE[ test_fold_avg][l2][900_day_0_mii]:       \u001b[0m count:516    avg:5.92   2.59    (0.00)    \n",
      "MAPE[ test_fold_avg][l2][900_day_0_mii]:      \u001b[0m count:516    avg:5.92   0.71    (0.00)    \n",
      "LIKELIHOOD[ test_fold_avg][l2][900_day_0_mii]:\u001b[0m count:516    avg:5.92   3.30    (0.00)    \n",
      "MEDIAN_ABSOLUTE_ERROR[ test_fold_avg][l2][900_day_0_mii]:\u001b[0m count:516    avg:5.92   2.01    (0.00)    \n",
      "-----------------------------\n",
      "Dropped ds1_pech_licz_18_pow\n",
      "-\n",
      "\u001b[44mRMSE[ test_fold_avg][l2][900_day_0_mii]:      \u001b[0m count:516    avg:5.92   3.52    (0.00)    \n",
      "MAE[ test_fold_avg][l2][900_day_0_mii]:       \u001b[0m count:516    avg:5.92   2.59    (0.00)    \n",
      "MAPE[ test_fold_avg][l2][900_day_0_mii]:      \u001b[0m count:516    avg:5.92   0.71    (0.00)    \n",
      "LIKELIHOOD[ test_fold_avg][l2][900_day_0_mii]:\u001b[0m count:516    avg:5.92   3.30    (0.00)    \n",
      "MEDIAN_ABSOLUTE_ERROR[ test_fold_avg][l2][900_day_0_mii]:\u001b[0m count:516    avg:5.92   2.01    (0.00)    \n",
      "-----------------------------\n",
      "Dropped cause_rpl_rif\n",
      "-\n",
      "\u001b[44mRMSE[ test_fold_avg][l2][900_day_0_mii]:      \u001b[0m count:516    avg:5.92   3.52    (0.00)    \n",
      "MAE[ test_fold_avg][l2][900_day_0_mii]:       \u001b[0m count:516    avg:5.92   2.59    (0.00)    \n",
      "MAPE[ test_fold_avg][l2][900_day_0_mii]:      \u001b[0m count:516    avg:5.92   0.71    (0.00)    \n",
      "LIKELIHOOD[ test_fold_avg][l2][900_day_0_mii]:\u001b[0m count:516    avg:5.92   3.30    (0.00)    \n",
      "MEDIAN_ABSOLUTE_ERROR[ test_fold_avg][l2][900_day_0_mii]:\u001b[0m count:516    avg:5.92   1.98    (0.00)    \n",
      "-----------------------------\n",
      "Dropped cause_poi\n",
      "-\n",
      "\u001b[44mRMSE[ test_fold_avg][l2][900_day_0_mii]:      \u001b[0m count:516    avg:5.92   3.52    (0.00)    \n",
      "MAE[ test_fold_avg][l2][900_day_0_mii]:       \u001b[0m count:516    avg:5.92   2.59    (0.00)    \n",
      "MAPE[ test_fold_avg][l2][900_day_0_mii]:      \u001b[0m count:516    avg:5.92   0.71    (0.00)    \n",
      "LIKELIHOOD[ test_fold_avg][l2][900_day_0_mii]:\u001b[0m count:516    avg:5.92   3.30    (0.00)    \n",
      "MEDIAN_ABSOLUTE_ERROR[ test_fold_avg][l2][900_day_0_mii]:\u001b[0m count:516    avg:5.92   1.98    (0.00)    \n",
      "-----------------------------\n",
      "Dropped cause_endocrine_other\n",
      "-\n",
      "\u001b[44mRMSE[ test_fold_avg][l2][900_day_0_mii]:      \u001b[0m count:516    avg:5.92   3.52    (0.00)    \n",
      "MAE[ test_fold_avg][l2][900_day_0_mii]:       \u001b[0m count:516    avg:5.92   2.59    (0.00)    \n",
      "MAPE[ test_fold_avg][l2][900_day_0_mii]:      \u001b[0m count:516    avg:5.92   0.71    (0.00)    \n",
      "LIKELIHOOD[ test_fold_avg][l2][900_day_0_mii]:\u001b[0m count:516    avg:5.92   3.30    (0.00)    \n",
      "MEDIAN_ABSOLUTE_ERROR[ test_fold_avg][l2][900_day_0_mii]:\u001b[0m count:516    avg:5.92   1.98    (0.00)    \n",
      "-----------------------------\n",
      "Dropped ds1_pech_licz_11_pow\n",
      "-\n",
      "\u001b[44mRMSE[ test_fold_avg][l2][900_day_0_mii]:      \u001b[0m count:516    avg:5.92   3.53    (0.00)    \n",
      "MAE[ test_fold_avg][l2][900_day_0_mii]:       \u001b[0m count:516    avg:5.92   2.59    (0.00)    \n",
      "MAPE[ test_fold_avg][l2][900_day_0_mii]:      \u001b[0m count:516    avg:5.92   0.71    (0.00)    \n",
      "LIKELIHOOD[ test_fold_avg][l2][900_day_0_mii]:\u001b[0m count:516    avg:5.92   3.30    (0.00)    \n",
      "MEDIAN_ABSOLUTE_ERROR[ test_fold_avg][l2][900_day_0_mii]:\u001b[0m count:516    avg:5.92   2.00    (0.00)    \n",
      "-----------------------------\n",
      "Dropped ds1_pech_licz_14_pow\n",
      "-\n",
      "\u001b[44mRMSE[ test_fold_avg][l2][900_day_0_mii]:      \u001b[0m count:516    avg:5.92   3.53    (0.00)    \n",
      "MAE[ test_fold_avg][l2][900_day_0_mii]:       \u001b[0m count:516    avg:5.92   2.59    (0.00)    \n",
      "MAPE[ test_fold_avg][l2][900_day_0_mii]:      \u001b[0m count:516    avg:5.92   0.71    (0.00)    \n",
      "LIKELIHOOD[ test_fold_avg][l2][900_day_0_mii]:\u001b[0m count:516    avg:5.92   3.30    (0.00)    \n",
      "MEDIAN_ABSOLUTE_ERROR[ test_fold_avg][l2][900_day_0_mii]:\u001b[0m count:516    avg:5.92   2.00    (0.00)    \n",
      "-----------------------------\n",
      "Dropped cause_pco\n",
      "-\n",
      "\u001b[44mRMSE[ test_fold_avg][l2][900_day_0_mii]:      \u001b[0m count:516    avg:5.92   3.54    (0.00)    \n",
      "MAE[ test_fold_avg][l2][900_day_0_mii]:       \u001b[0m count:516    avg:5.92   2.60    (0.00)    \n",
      "MAPE[ test_fold_avg][l2][900_day_0_mii]:      \u001b[0m count:516    avg:5.92   0.72    (0.00)    \n",
      "LIKELIHOOD[ test_fold_avg][l2][900_day_0_mii]:\u001b[0m count:516    avg:5.92   3.30    (0.00)    \n",
      "MEDIAN_ABSOLUTE_ERROR[ test_fold_avg][l2][900_day_0_mii]:\u001b[0m count:516    avg:5.92   1.99    (0.00)    \n",
      "-----------------------------\n",
      "Dropped patient_age\n",
      "-\n",
      "\u001b[44mRMSE[ test_fold_avg][l2][900_day_0_mii]:      \u001b[0m count:516    avg:5.92   3.52    (0.00)    \n",
      "MAE[ test_fold_avg][l2][900_day_0_mii]:       \u001b[0m count:516    avg:5.92   2.58    (0.00)    \n",
      "MAPE[ test_fold_avg][l2][900_day_0_mii]:      \u001b[0m count:516    avg:5.92   0.70    (0.00)    \n",
      "LIKELIHOOD[ test_fold_avg][l2][900_day_0_mii]:\u001b[0m count:516    avg:5.92   3.30    (0.00)    \n",
      "MEDIAN_ABSOLUTE_ERROR[ test_fold_avg][l2][900_day_0_mii]:\u001b[0m count:516    avg:5.92   1.96    (0.00)    \n",
      "-----------------------------\n",
      "Dropped test_testosterone_r\n",
      "-\n",
      "\u001b[44mRMSE[ test_fold_avg][l2][900_day_0_mii]:      \u001b[0m count:516    avg:5.92   3.54    (0.00)    \n",
      "MAE[ test_fold_avg][l2][900_day_0_mii]:       \u001b[0m count:516    avg:5.92   2.61    (0.00)    \n",
      "MAPE[ test_fold_avg][l2][900_day_0_mii]:      \u001b[0m count:516    avg:5.92   0.72    (0.00)    \n",
      "LIKELIHOOD[ test_fold_avg][l2][900_day_0_mii]:\u001b[0m count:516    avg:5.92   3.30    (0.00)    \n",
      "MEDIAN_ABSOLUTE_ERROR[ test_fold_avg][l2][900_day_0_mii]:\u001b[0m count:516    avg:5.92   2.09    (0.00)    \n",
      "-----------------------------\n",
      "Dropped test_shbg_r\n",
      "-\n",
      "\u001b[44mRMSE[ test_fold_avg][l2][900_day_0_mii]:      \u001b[0m count:516    avg:5.92   3.54    (0.00)    \n",
      "MAE[ test_fold_avg][l2][900_day_0_mii]:       \u001b[0m count:516    avg:5.92   2.62    (0.00)    \n",
      "MAPE[ test_fold_avg][l2][900_day_0_mii]:      \u001b[0m count:516    avg:5.92   0.72    (0.00)    \n",
      "LIKELIHOOD[ test_fold_avg][l2][900_day_0_mii]:\u001b[0m count:516    avg:5.92   3.30    (0.00)    \n",
      "MEDIAN_ABSOLUTE_ERROR[ test_fold_avg][l2][900_day_0_mii]:\u001b[0m count:516    avg:5.92   2.11    (0.00)    \n",
      "-----------------------------\n",
      "Dropped test_lh_r\n",
      "-\n",
      "\u001b[44mRMSE[ test_fold_avg][l2][900_day_0_mii]:      \u001b[0m count:516    avg:5.92   3.53    (0.00)    \n",
      "MAE[ test_fold_avg][l2][900_day_0_mii]:       \u001b[0m count:516    avg:5.92   2.61    (0.00)    \n",
      "MAPE[ test_fold_avg][l2][900_day_0_mii]:      \u001b[0m count:516    avg:5.92   0.72    (0.00)    \n",
      "LIKELIHOOD[ test_fold_avg][l2][900_day_0_mii]:\u001b[0m count:516    avg:5.92   3.30    (0.00)    \n",
      "MEDIAN_ABSOLUTE_ERROR[ test_fold_avg][l2][900_day_0_mii]:\u001b[0m count:516    avg:5.92   2.11    (0.00)    \n",
      "-----------------------------\n",
      "Dropped prev_proc-cumulus_denuded\n",
      "-\n",
      "\u001b[44mRMSE[ test_fold_avg][l2][900_day_0_mii]:      \u001b[0m count:516    avg:5.92   3.55    (0.00)    \n",
      "MAE[ test_fold_avg][l2][900_day_0_mii]:       \u001b[0m count:516    avg:5.92   2.60    (0.00)    \n",
      "MAPE[ test_fold_avg][l2][900_day_0_mii]:      \u001b[0m count:516    avg:5.92   0.71    (0.00)    \n",
      "LIKELIHOOD[ test_fold_avg][l2][900_day_0_mii]:\u001b[0m count:516    avg:5.92   3.30    (0.00)    \n",
      "MEDIAN_ABSOLUTE_ERROR[ test_fold_avg][l2][900_day_0_mii]:\u001b[0m count:516    avg:5.92   2.08    (0.00)    \n",
      "-----------------------------\n",
      "Dropped prev_proc-day_0_mii\n",
      "-\n",
      "\u001b[44mRMSE[ test_fold_avg][l2][900_day_0_mii]:      \u001b[0m count:516    avg:5.92   3.58    (0.00)    \n",
      "MAE[ test_fold_avg][l2][900_day_0_mii]:       \u001b[0m count:516    avg:5.92   2.63    (0.00)    \n",
      "MAPE[ test_fold_avg][l2][900_day_0_mii]:      \u001b[0m count:516    avg:5.92   0.72    (0.00)    \n",
      "LIKELIHOOD[ test_fold_avg][l2][900_day_0_mii]:\u001b[0m count:516    avg:5.92   3.30    (0.00)    \n",
      "MEDIAN_ABSOLUTE_ERROR[ test_fold_avg][l2][900_day_0_mii]:\u001b[0m count:516    avg:5.92   2.12    (0.00)    \n",
      "-----------------------------\n",
      "Dropped test_e2_r\n",
      "-\n",
      "\u001b[44mRMSE[ test_fold_avg][l2][900_day_0_mii]:      \u001b[0m count:516    avg:5.92   3.55    (0.00)    \n",
      "MAE[ test_fold_avg][l2][900_day_0_mii]:       \u001b[0m count:516    avg:5.92   2.64    (0.00)    \n",
      "MAPE[ test_fold_avg][l2][900_day_0_mii]:      \u001b[0m count:516    avg:5.92   0.74    (0.00)    \n",
      "LIKELIHOOD[ test_fold_avg][l2][900_day_0_mii]:\u001b[0m count:516    avg:5.92   3.30    (0.00)    \n",
      "MEDIAN_ABSOLUTE_ERROR[ test_fold_avg][l2][900_day_0_mii]:\u001b[0m count:516    avg:5.92   2.18    (0.00)    \n",
      "-----------------------------\n",
      "Dropped test_dhea_s_r\n",
      "-\n",
      "\u001b[44mRMSE[ test_fold_avg][l2][900_day_0_mii]:      \u001b[0m count:516    avg:5.92   3.55    (0.00)    \n",
      "MAE[ test_fold_avg][l2][900_day_0_mii]:       \u001b[0m count:516    avg:5.92   2.63    (0.00)    \n",
      "MAPE[ test_fold_avg][l2][900_day_0_mii]:      \u001b[0m count:516    avg:5.92   0.73    (0.00)    \n",
      "LIKELIHOOD[ test_fold_avg][l2][900_day_0_mii]:\u001b[0m count:516    avg:5.92   3.30    (0.00)    \n",
      "MEDIAN_ABSOLUTE_ERROR[ test_fold_avg][l2][900_day_0_mii]:\u001b[0m count:516    avg:5.92   2.12    (0.00)    \n",
      "-----------------------------\n",
      "Dropped test_fsh_r\n",
      "-\n",
      "\u001b[44mRMSE[ test_fold_avg][l2][900_day_0_mii]:      \u001b[0m count:516    avg:5.92   3.59    (0.00)    \n",
      "MAE[ test_fold_avg][l2][900_day_0_mii]:       \u001b[0m count:516    avg:5.92   2.66    (0.00)    \n",
      "MAPE[ test_fold_avg][l2][900_day_0_mii]:      \u001b[0m count:516    avg:5.92   0.74    (0.00)    \n",
      "LIKELIHOOD[ test_fold_avg][l2][900_day_0_mii]:\u001b[0m count:516    avg:5.92   3.30    (0.00)    \n",
      "MEDIAN_ABSOLUTE_ERROR[ test_fold_avg][l2][900_day_0_mii]:\u001b[0m count:516    avg:5.92   2.17    (0.00)    \n",
      "-----------------------------\n",
      "Dropped test_inhibina_b_r\n",
      "-\n",
      "\u001b[44mRMSE[ test_fold_avg][l2][900_day_0_mii]:      \u001b[0m count:516    avg:5.92   3.62    (0.00)    \n",
      "MAE[ test_fold_avg][l2][900_day_0_mii]:       \u001b[0m count:516    avg:5.92   2.67    (0.00)    \n",
      "MAPE[ test_fold_avg][l2][900_day_0_mii]:      \u001b[0m count:516    avg:5.92   0.73    (0.00)    \n",
      "LIKELIHOOD[ test_fold_avg][l2][900_day_0_mii]:\u001b[0m count:516    avg:5.92   3.30    (0.00)    \n",
      "MEDIAN_ABSOLUTE_ERROR[ test_fold_avg][l2][900_day_0_mii]:\u001b[0m count:516    avg:5.92   2.15    (0.00)    \n",
      "-----------------------------\n",
      "Dropped bmi\n",
      "-\n",
      "\u001b[44mRMSE[ test_fold_avg][l2][900_day_0_mii]:      \u001b[0m count:516    avg:5.92   3.51    (0.00)    \n",
      "MAE[ test_fold_avg][l2][900_day_0_mii]:       \u001b[0m count:516    avg:5.92   2.59    (0.00)    \n",
      "MAPE[ test_fold_avg][l2][900_day_0_mii]:      \u001b[0m count:516    avg:5.92   0.72    (0.00)    \n",
      "LIKELIHOOD[ test_fold_avg][l2][900_day_0_mii]:\u001b[0m count:516    avg:5.92   3.37    (0.00)    \n",
      "MEDIAN_ABSOLUTE_ERROR[ test_fold_avg][l2][900_day_0_mii]:\u001b[0m count:516    avg:5.92   1.94    (0.00)    \n",
      "-----------------------------\n",
      "Dropped test_tsh_r\n",
      "-\n",
      "\u001b[44mRMSE[ test_fold_avg][l2][900_day_0_mii]:      \u001b[0m count:516    avg:5.92   3.51    (0.00)    \n",
      "MAE[ test_fold_avg][l2][900_day_0_mii]:       \u001b[0m count:516    avg:5.92   2.60    (0.00)    \n",
      "MAPE[ test_fold_avg][l2][900_day_0_mii]:      \u001b[0m count:516    avg:5.92   0.72    (0.00)    \n",
      "LIKELIHOOD[ test_fold_avg][l2][900_day_0_mii]:\u001b[0m count:516    avg:5.92   3.30    (0.00)    \n",
      "MEDIAN_ABSOLUTE_ERROR[ test_fold_avg][l2][900_day_0_mii]:\u001b[0m count:516    avg:5.92   1.96    (0.00)    \n",
      "-----------------------------\n",
      "Dropped ds1_pech_licz_10_pon\n",
      "-\n",
      "\u001b[44mRMSE[ test_fold_avg][l2][900_day_0_mii]:      \u001b[0m count:516    avg:5.92   3.55    (0.00)    \n",
      "MAE[ test_fold_avg][l2][900_day_0_mii]:       \u001b[0m count:516    avg:5.92   2.65    (0.00)    \n",
      "MAPE[ test_fold_avg][l2][900_day_0_mii]:      \u001b[0m count:516    avg:5.92   0.75    (0.00)    \n",
      "LIKELIHOOD[ test_fold_avg][l2][900_day_0_mii]:\u001b[0m count:516    avg:5.92   3.30    (0.00)    \n",
      "MEDIAN_ABSOLUTE_ERROR[ test_fold_avg][l2][900_day_0_mii]:\u001b[0m count:516    avg:5.92   2.03    (0.00)    \n",
      "-----------------------------\n",
      "Dropped test_amh_r\n",
      "-\n",
      "\u001b[44mRMSE[ test_fold_avg][l2][900_day_0_mii]:      \u001b[0m count:516    avg:5.92   4.77    (0.00)    \n",
      "MAE[ test_fold_avg][l2][900_day_0_mii]:       \u001b[0m count:516    avg:5.92   3.65    (0.00)    \n",
      "MAPE[ test_fold_avg][l2][900_day_0_mii]:      \u001b[0m count:516    avg:5.92   1.15    (0.00)    \n",
      "LIKELIHOOD[ test_fold_avg][l2][900_day_0_mii]:\u001b[0m count:516    avg:5.92   3.30    (0.00)    \n",
      "MEDIAN_ABSOLUTE_ERROR[ test_fold_avg][l2][900_day_0_mii]:\u001b[0m count:516    avg:5.92   3.17    (0.00)    \n",
      "-----------------------------\n"
     ]
    }
   ],
   "source": [
    "iter_columns = test_columns_900.copy()\n",
    "for key, value in order.items():\n",
    "    iter_columns.remove(key)\n",
    "    print(f'Dropped {key}')\n",
    "    Boruta_RESULTS = train_data_series(\n",
    "        LGB_PARAMS_BASE,\n",
    "        DATA_SERIES_900,\n",
    "        iter_columns,\n",
    "        model_suffixes_filter=['l2'])\n",
    "    Boruta_RESULTS.print_errors(\n",
    "        [Boruta_RESULTS],\n",
    "        print_suffixes=['l2'],\n",
    "        print_avg=True,\n",
    "    )"
   ]
  },
  {
   "attachments": {},
   "cell_type": "markdown",
   "metadata": {},
   "source": [
    "AMH and ds1_pech_licz_10 are by far the most important columns in the dataset. Check how the importance looks without them."
   ]
  },
  {
   "cell_type": "code",
   "execution_count": 106,
   "metadata": {},
   "outputs": [
    {
     "name": "stdout",
     "output_type": "stream",
     "text": [
      "Dropped cause_idiopathic\n",
      "-\n",
      "\u001b[44mRMSE[ test_fold_avg][l2][900_day_0_mii]:      \u001b[0m count:516    avg:5.92   4.31    (0.00)    \n",
      "MAE[ test_fold_avg][l2][900_day_0_mii]:       \u001b[0m count:516    avg:5.92   3.32    (0.00)    \n",
      "MAPE[ test_fold_avg][l2][900_day_0_mii]:      \u001b[0m count:516    avg:5.92   0.97    (0.00)    \n",
      "LIKELIHOOD[ test_fold_avg][l2][900_day_0_mii]:\u001b[0m count:516    avg:5.92   3.30    (0.00)    \n",
      "MEDIAN_ABSOLUTE_ERROR[ test_fold_avg][l2][900_day_0_mii]:\u001b[0m count:516    avg:5.92   2.69    (0.00)    \n",
      "-----------------------------\n",
      "Dropped cause_tubal\n",
      "-\n",
      "\u001b[44mRMSE[ test_fold_avg][l2][900_day_0_mii]:      \u001b[0m count:516    avg:5.92   4.31    (0.00)    \n",
      "MAE[ test_fold_avg][l2][900_day_0_mii]:       \u001b[0m count:516    avg:5.92   3.32    (0.00)    \n",
      "MAPE[ test_fold_avg][l2][900_day_0_mii]:      \u001b[0m count:516    avg:5.92   0.97    (0.00)    \n",
      "LIKELIHOOD[ test_fold_avg][l2][900_day_0_mii]:\u001b[0m count:516    avg:5.92   3.30    (0.00)    \n",
      "MEDIAN_ABSOLUTE_ERROR[ test_fold_avg][l2][900_day_0_mii]:\u001b[0m count:516    avg:5.92   2.69    (0.00)    \n",
      "-----------------------------\n",
      "Dropped cause_genetic_female\n",
      "-\n",
      "\u001b[44mRMSE[ test_fold_avg][l2][900_day_0_mii]:      \u001b[0m count:516    avg:5.92   4.31    (0.00)    \n",
      "MAE[ test_fold_avg][l2][900_day_0_mii]:       \u001b[0m count:516    avg:5.92   3.32    (0.00)    \n",
      "MAPE[ test_fold_avg][l2][900_day_0_mii]:      \u001b[0m count:516    avg:5.92   0.97    (0.00)    \n",
      "LIKELIHOOD[ test_fold_avg][l2][900_day_0_mii]:\u001b[0m count:516    avg:5.92   3.30    (0.00)    \n",
      "MEDIAN_ABSOLUTE_ERROR[ test_fold_avg][l2][900_day_0_mii]:\u001b[0m count:516    avg:5.92   2.69    (0.00)    \n",
      "-----------------------------\n",
      "Dropped cause_low_ovar_res\n",
      "-\n",
      "\u001b[44mRMSE[ test_fold_avg][l2][900_day_0_mii]:      \u001b[0m count:516    avg:5.92   4.31    (0.00)    \n",
      "MAE[ test_fold_avg][l2][900_day_0_mii]:       \u001b[0m count:516    avg:5.92   3.34    (0.00)    \n",
      "MAPE[ test_fold_avg][l2][900_day_0_mii]:      \u001b[0m count:516    avg:5.92   0.97    (0.00)    \n",
      "LIKELIHOOD[ test_fold_avg][l2][900_day_0_mii]:\u001b[0m count:516    avg:5.92   3.30    (0.00)    \n",
      "MEDIAN_ABSOLUTE_ERROR[ test_fold_avg][l2][900_day_0_mii]:\u001b[0m count:516    avg:5.92   2.69    (0.00)    \n",
      "-----------------------------\n",
      "Dropped cause_endometriosis\n",
      "-\n",
      "\u001b[44mRMSE[ test_fold_avg][l2][900_day_0_mii]:      \u001b[0m count:516    avg:5.92   4.31    (0.00)    \n",
      "MAE[ test_fold_avg][l2][900_day_0_mii]:       \u001b[0m count:516    avg:5.92   3.34    (0.00)    \n",
      "MAPE[ test_fold_avg][l2][900_day_0_mii]:      \u001b[0m count:516    avg:5.92   0.97    (0.00)    \n",
      "LIKELIHOOD[ test_fold_avg][l2][900_day_0_mii]:\u001b[0m count:516    avg:5.92   3.30    (0.00)    \n",
      "MEDIAN_ABSOLUTE_ERROR[ test_fold_avg][l2][900_day_0_mii]:\u001b[0m count:516    avg:5.92   2.69    (0.00)    \n",
      "-----------------------------\n",
      "Dropped cause_endocrine_thyroid\n",
      "-\n",
      "\u001b[44mRMSE[ test_fold_avg][l2][900_day_0_mii]:      \u001b[0m count:516    avg:5.92   4.31    (0.00)    \n",
      "MAE[ test_fold_avg][l2][900_day_0_mii]:       \u001b[0m count:516    avg:5.92   3.34    (0.00)    \n",
      "MAPE[ test_fold_avg][l2][900_day_0_mii]:      \u001b[0m count:516    avg:5.92   0.97    (0.00)    \n",
      "LIKELIHOOD[ test_fold_avg][l2][900_day_0_mii]:\u001b[0m count:516    avg:5.92   3.30    (0.00)    \n",
      "MEDIAN_ABSOLUTE_ERROR[ test_fold_avg][l2][900_day_0_mii]:\u001b[0m count:516    avg:5.92   2.69    (0.00)    \n",
      "-----------------------------\n",
      "Dropped cause_immuno\n",
      "-\n",
      "\u001b[44mRMSE[ test_fold_avg][l2][900_day_0_mii]:      \u001b[0m count:516    avg:5.92   4.31    (0.00)    \n",
      "MAE[ test_fold_avg][l2][900_day_0_mii]:       \u001b[0m count:516    avg:5.92   3.34    (0.00)    \n",
      "MAPE[ test_fold_avg][l2][900_day_0_mii]:      \u001b[0m count:516    avg:5.92   0.97    (0.00)    \n",
      "LIKELIHOOD[ test_fold_avg][l2][900_day_0_mii]:\u001b[0m count:516    avg:5.92   3.30    (0.00)    \n",
      "MEDIAN_ABSOLUTE_ERROR[ test_fold_avg][l2][900_day_0_mii]:\u001b[0m count:516    avg:5.92   2.69    (0.00)    \n",
      "-----------------------------\n",
      "Dropped ds1_pech_licz_18_pow\n",
      "-\n",
      "\u001b[44mRMSE[ test_fold_avg][l2][900_day_0_mii]:      \u001b[0m count:516    avg:5.92   4.31    (0.00)    \n",
      "MAE[ test_fold_avg][l2][900_day_0_mii]:       \u001b[0m count:516    avg:5.92   3.34    (0.00)    \n",
      "MAPE[ test_fold_avg][l2][900_day_0_mii]:      \u001b[0m count:516    avg:5.92   0.97    (0.00)    \n",
      "LIKELIHOOD[ test_fold_avg][l2][900_day_0_mii]:\u001b[0m count:516    avg:5.92   3.30    (0.00)    \n",
      "MEDIAN_ABSOLUTE_ERROR[ test_fold_avg][l2][900_day_0_mii]:\u001b[0m count:516    avg:5.92   2.69    (0.00)    \n",
      "-----------------------------\n",
      "Dropped cause_rpl_rif\n",
      "-\n",
      "\u001b[44mRMSE[ test_fold_avg][l2][900_day_0_mii]:      \u001b[0m count:516    avg:5.92   4.30    (0.00)    \n",
      "MAE[ test_fold_avg][l2][900_day_0_mii]:       \u001b[0m count:516    avg:5.92   3.33    (0.00)    \n",
      "MAPE[ test_fold_avg][l2][900_day_0_mii]:      \u001b[0m count:516    avg:5.92   0.97    (0.00)    \n",
      "LIKELIHOOD[ test_fold_avg][l2][900_day_0_mii]:\u001b[0m count:516    avg:5.92   3.30    (0.00)    \n",
      "MEDIAN_ABSOLUTE_ERROR[ test_fold_avg][l2][900_day_0_mii]:\u001b[0m count:516    avg:5.92   2.69    (0.00)    \n",
      "-----------------------------\n",
      "Dropped cause_poi\n",
      "-\n",
      "\u001b[44mRMSE[ test_fold_avg][l2][900_day_0_mii]:      \u001b[0m count:516    avg:5.92   4.30    (0.00)    \n",
      "MAE[ test_fold_avg][l2][900_day_0_mii]:       \u001b[0m count:516    avg:5.92   3.32    (0.00)    \n",
      "MAPE[ test_fold_avg][l2][900_day_0_mii]:      \u001b[0m count:516    avg:5.92   0.96    (0.00)    \n",
      "LIKELIHOOD[ test_fold_avg][l2][900_day_0_mii]:\u001b[0m count:516    avg:5.92   3.30    (0.00)    \n",
      "MEDIAN_ABSOLUTE_ERROR[ test_fold_avg][l2][900_day_0_mii]:\u001b[0m count:516    avg:5.92   2.70    (0.00)    \n",
      "-----------------------------\n",
      "Dropped cause_endocrine_other\n",
      "-\n",
      "\u001b[44mRMSE[ test_fold_avg][l2][900_day_0_mii]:      \u001b[0m count:516    avg:5.92   4.30    (0.00)    \n",
      "MAE[ test_fold_avg][l2][900_day_0_mii]:       \u001b[0m count:516    avg:5.92   3.32    (0.00)    \n",
      "MAPE[ test_fold_avg][l2][900_day_0_mii]:      \u001b[0m count:516    avg:5.92   0.96    (0.00)    \n",
      "LIKELIHOOD[ test_fold_avg][l2][900_day_0_mii]:\u001b[0m count:516    avg:5.92   3.30    (0.00)    \n",
      "MEDIAN_ABSOLUTE_ERROR[ test_fold_avg][l2][900_day_0_mii]:\u001b[0m count:516    avg:5.92   2.70    (0.00)    \n",
      "-----------------------------\n",
      "Dropped ds1_pech_licz_11_pow\n",
      "-\n",
      "\u001b[44mRMSE[ test_fold_avg][l2][900_day_0_mii]:      \u001b[0m count:516    avg:5.92   4.29    (0.00)    \n",
      "MAE[ test_fold_avg][l2][900_day_0_mii]:       \u001b[0m count:516    avg:5.92   3.32    (0.00)    \n",
      "MAPE[ test_fold_avg][l2][900_day_0_mii]:      \u001b[0m count:516    avg:5.92   0.97    (0.00)    \n",
      "LIKELIHOOD[ test_fold_avg][l2][900_day_0_mii]:\u001b[0m count:516    avg:5.92   3.30    (0.00)    \n",
      "MEDIAN_ABSOLUTE_ERROR[ test_fold_avg][l2][900_day_0_mii]:\u001b[0m count:516    avg:5.92   2.72    (0.00)    \n",
      "-----------------------------\n",
      "Dropped ds1_pech_licz_14_pow\n",
      "-\n",
      "\u001b[44mRMSE[ test_fold_avg][l2][900_day_0_mii]:      \u001b[0m count:516    avg:5.92   4.30    (0.00)    \n",
      "MAE[ test_fold_avg][l2][900_day_0_mii]:       \u001b[0m count:516    avg:5.92   3.33    (0.00)    \n",
      "MAPE[ test_fold_avg][l2][900_day_0_mii]:      \u001b[0m count:516    avg:5.92   0.97    (0.00)    \n",
      "LIKELIHOOD[ test_fold_avg][l2][900_day_0_mii]:\u001b[0m count:516    avg:5.92   3.30    (0.00)    \n",
      "MEDIAN_ABSOLUTE_ERROR[ test_fold_avg][l2][900_day_0_mii]:\u001b[0m count:516    avg:5.92   2.69    (0.00)    \n",
      "-----------------------------\n",
      "Dropped cause_pco\n",
      "-\n",
      "\u001b[44mRMSE[ test_fold_avg][l2][900_day_0_mii]:      \u001b[0m count:516    avg:5.92   4.30    (0.00)    \n",
      "MAE[ test_fold_avg][l2][900_day_0_mii]:       \u001b[0m count:516    avg:5.92   3.32    (0.00)    \n",
      "MAPE[ test_fold_avg][l2][900_day_0_mii]:      \u001b[0m count:516    avg:5.92   0.98    (0.00)    \n",
      "LIKELIHOOD[ test_fold_avg][l2][900_day_0_mii]:\u001b[0m count:516    avg:5.92   3.30    (0.00)    \n",
      "MEDIAN_ABSOLUTE_ERROR[ test_fold_avg][l2][900_day_0_mii]:\u001b[0m count:516    avg:5.92   2.74    (0.00)    \n",
      "-----------------------------\n",
      "Dropped patient_age\n",
      "-\n",
      "\u001b[44mRMSE[ test_fold_avg][l2][900_day_0_mii]:      \u001b[0m count:516    avg:5.92   4.34    (0.00)    \n",
      "MAE[ test_fold_avg][l2][900_day_0_mii]:       \u001b[0m count:516    avg:5.92   3.34    (0.00)    \n",
      "MAPE[ test_fold_avg][l2][900_day_0_mii]:      \u001b[0m count:516    avg:5.92   0.98    (0.00)    \n",
      "LIKELIHOOD[ test_fold_avg][l2][900_day_0_mii]:\u001b[0m count:516    avg:5.92   3.30    (0.00)    \n",
      "MEDIAN_ABSOLUTE_ERROR[ test_fold_avg][l2][900_day_0_mii]:\u001b[0m count:516    avg:5.92   2.75    (0.00)    \n",
      "-----------------------------\n",
      "Dropped test_testosterone_r\n",
      "-\n",
      "\u001b[44mRMSE[ test_fold_avg][l2][900_day_0_mii]:      \u001b[0m count:516    avg:5.92   4.34    (0.00)    \n",
      "MAE[ test_fold_avg][l2][900_day_0_mii]:       \u001b[0m count:516    avg:5.92   3.32    (0.00)    \n",
      "MAPE[ test_fold_avg][l2][900_day_0_mii]:      \u001b[0m count:516    avg:5.92   0.98    (0.00)    \n",
      "LIKELIHOOD[ test_fold_avg][l2][900_day_0_mii]:\u001b[0m count:516    avg:5.92   3.30    (0.00)    \n",
      "MEDIAN_ABSOLUTE_ERROR[ test_fold_avg][l2][900_day_0_mii]:\u001b[0m count:516    avg:5.92   2.68    (0.00)    \n",
      "-----------------------------\n",
      "Dropped test_shbg_r\n",
      "-\n",
      "\u001b[44mRMSE[ test_fold_avg][l2][900_day_0_mii]:      \u001b[0m count:516    avg:5.92   4.30    (0.00)    \n",
      "MAE[ test_fold_avg][l2][900_day_0_mii]:       \u001b[0m count:516    avg:5.92   3.29    (0.00)    \n",
      "MAPE[ test_fold_avg][l2][900_day_0_mii]:      \u001b[0m count:516    avg:5.92   0.95    (0.00)    \n",
      "LIKELIHOOD[ test_fold_avg][l2][900_day_0_mii]:\u001b[0m count:516    avg:5.92   3.30    (0.00)    \n",
      "MEDIAN_ABSOLUTE_ERROR[ test_fold_avg][l2][900_day_0_mii]:\u001b[0m count:516    avg:5.92   2.66    (0.00)    \n",
      "-----------------------------\n",
      "Dropped test_lh_r\n",
      "-\n",
      "\u001b[44mRMSE[ test_fold_avg][l2][900_day_0_mii]:      \u001b[0m count:516    avg:5.92   4.33    (0.00)    \n",
      "MAE[ test_fold_avg][l2][900_day_0_mii]:       \u001b[0m count:516    avg:5.92   3.31    (0.00)    \n",
      "MAPE[ test_fold_avg][l2][900_day_0_mii]:      \u001b[0m count:516    avg:5.92   0.97    (0.00)    \n",
      "LIKELIHOOD[ test_fold_avg][l2][900_day_0_mii]:\u001b[0m count:516    avg:5.92   3.30    (0.00)    \n",
      "MEDIAN_ABSOLUTE_ERROR[ test_fold_avg][l2][900_day_0_mii]:\u001b[0m count:516    avg:5.92   2.69    (0.00)    \n",
      "-----------------------------\n",
      "Dropped prev_proc-cumulus_denuded\n",
      "-\n",
      "\u001b[44mRMSE[ test_fold_avg][l2][900_day_0_mii]:      \u001b[0m count:516    avg:5.92   4.33    (0.00)    \n",
      "MAE[ test_fold_avg][l2][900_day_0_mii]:       \u001b[0m count:516    avg:5.92   3.33    (0.00)    \n",
      "MAPE[ test_fold_avg][l2][900_day_0_mii]:      \u001b[0m count:516    avg:5.92   0.98    (0.00)    \n",
      "LIKELIHOOD[ test_fold_avg][l2][900_day_0_mii]:\u001b[0m count:516    avg:5.92   3.30    (0.00)    \n",
      "MEDIAN_ABSOLUTE_ERROR[ test_fold_avg][l2][900_day_0_mii]:\u001b[0m count:516    avg:5.92   2.70    (0.00)    \n",
      "-----------------------------\n",
      "Dropped prev_proc-day_0_mii\n",
      "-\n",
      "\u001b[44mRMSE[ test_fold_avg][l2][900_day_0_mii]:      \u001b[0m count:516    avg:5.92   4.71    (0.00)    \n",
      "MAE[ test_fold_avg][l2][900_day_0_mii]:       \u001b[0m count:516    avg:5.92   3.61    (0.00)    \n",
      "MAPE[ test_fold_avg][l2][900_day_0_mii]:      \u001b[0m count:516    avg:5.92   1.10    (0.00)    \n",
      "LIKELIHOOD[ test_fold_avg][l2][900_day_0_mii]:\u001b[0m count:516    avg:5.92   3.30    (0.00)    \n",
      "MEDIAN_ABSOLUTE_ERROR[ test_fold_avg][l2][900_day_0_mii]:\u001b[0m count:516    avg:5.92   3.05    (0.00)    \n",
      "-----------------------------\n",
      "Dropped test_e2_r\n",
      "-\n",
      "\u001b[44mRMSE[ test_fold_avg][l2][900_day_0_mii]:      \u001b[0m count:516    avg:5.92   4.70    (0.00)    \n",
      "MAE[ test_fold_avg][l2][900_day_0_mii]:       \u001b[0m count:516    avg:5.92   3.63    (0.00)    \n",
      "MAPE[ test_fold_avg][l2][900_day_0_mii]:      \u001b[0m count:516    avg:5.92   1.13    (0.00)    \n",
      "LIKELIHOOD[ test_fold_avg][l2][900_day_0_mii]:\u001b[0m count:516    avg:5.92   3.30    (0.00)    \n",
      "MEDIAN_ABSOLUTE_ERROR[ test_fold_avg][l2][900_day_0_mii]:\u001b[0m count:516    avg:5.92   3.09    (0.00)    \n",
      "-----------------------------\n",
      "Dropped test_dhea_s_r\n",
      "-\n",
      "\u001b[44mRMSE[ test_fold_avg][l2][900_day_0_mii]:      \u001b[0m count:516    avg:5.92   4.67    (0.00)    \n",
      "MAE[ test_fold_avg][l2][900_day_0_mii]:       \u001b[0m count:516    avg:5.92   3.59    (0.00)    \n",
      "MAPE[ test_fold_avg][l2][900_day_0_mii]:      \u001b[0m count:516    avg:5.92   1.11    (0.00)    \n",
      "LIKELIHOOD[ test_fold_avg][l2][900_day_0_mii]:\u001b[0m count:516    avg:5.92   3.30    (0.00)    \n",
      "MEDIAN_ABSOLUTE_ERROR[ test_fold_avg][l2][900_day_0_mii]:\u001b[0m count:516    avg:5.92   3.11    (0.00)    \n",
      "-----------------------------\n",
      "Dropped test_fsh_r\n",
      "-\n",
      "\u001b[44mRMSE[ test_fold_avg][l2][900_day_0_mii]:      \u001b[0m count:516    avg:5.92   4.70    (0.00)    \n",
      "MAE[ test_fold_avg][l2][900_day_0_mii]:       \u001b[0m count:516    avg:5.92   3.60    (0.00)    \n",
      "MAPE[ test_fold_avg][l2][900_day_0_mii]:      \u001b[0m count:516    avg:5.92   1.13    (0.00)    \n",
      "LIKELIHOOD[ test_fold_avg][l2][900_day_0_mii]:\u001b[0m count:516    avg:5.92   3.30    (0.00)    \n",
      "MEDIAN_ABSOLUTE_ERROR[ test_fold_avg][l2][900_day_0_mii]:\u001b[0m count:516    avg:5.92   3.18    (0.00)    \n",
      "-----------------------------\n",
      "Dropped test_inhibina_b_r\n",
      "-\n",
      "\u001b[44mRMSE[ test_fold_avg][l2][900_day_0_mii]:      \u001b[0m count:516    avg:5.92   4.73    (0.00)    \n",
      "MAE[ test_fold_avg][l2][900_day_0_mii]:       \u001b[0m count:516    avg:5.92   3.62    (0.00)    \n",
      "MAPE[ test_fold_avg][l2][900_day_0_mii]:      \u001b[0m count:516    avg:5.92   1.12    (0.00)    \n",
      "LIKELIHOOD[ test_fold_avg][l2][900_day_0_mii]:\u001b[0m count:516    avg:5.92   3.30    (0.00)    \n",
      "MEDIAN_ABSOLUTE_ERROR[ test_fold_avg][l2][900_day_0_mii]:\u001b[0m count:516    avg:5.92   3.05    (0.00)    \n",
      "-----------------------------\n",
      "Dropped bmi\n",
      "-\n",
      "\u001b[44mRMSE[ test_fold_avg][l2][900_day_0_mii]:      \u001b[0m count:516    avg:5.92   4.74    (0.00)    \n",
      "MAE[ test_fold_avg][l2][900_day_0_mii]:       \u001b[0m count:516    avg:5.92   3.64    (0.00)    \n",
      "MAPE[ test_fold_avg][l2][900_day_0_mii]:      \u001b[0m count:516    avg:5.92   1.14    (0.00)    \n",
      "LIKELIHOOD[ test_fold_avg][l2][900_day_0_mii]:\u001b[0m count:516    avg:5.92   3.30    (0.00)    \n",
      "MEDIAN_ABSOLUTE_ERROR[ test_fold_avg][l2][900_day_0_mii]:\u001b[0m count:516    avg:5.92   3.12    (0.00)    \n",
      "-----------------------------\n",
      "Dropped test_tsh_r\n",
      "-\n",
      "\u001b[44mRMSE[ test_fold_avg][l2][900_day_0_mii]:      \u001b[0m count:516    avg:5.92   4.77    (0.00)    \n",
      "MAE[ test_fold_avg][l2][900_day_0_mii]:       \u001b[0m count:516    avg:5.92   3.65    (0.00)    \n",
      "MAPE[ test_fold_avg][l2][900_day_0_mii]:      \u001b[0m count:516    avg:5.92   1.15    (0.00)    \n",
      "LIKELIHOOD[ test_fold_avg][l2][900_day_0_mii]:\u001b[0m count:516    avg:5.92   3.30    (0.00)    \n",
      "MEDIAN_ABSOLUTE_ERROR[ test_fold_avg][l2][900_day_0_mii]:\u001b[0m count:516    avg:5.92   3.17    (0.00)    \n",
      "-----------------------------\n"
     ]
    }
   ],
   "source": [
    "iter_columns = test_columns_900.copy()\n",
    "iter_columns.remove('test_amh_r')\n",
    "iter_columns.remove('ds1_pech_licz_10_pon')\n",
    "for key, value in order.items():\n",
    "    if key in iter_columns:\n",
    "        iter_columns.remove(key)\n",
    "        print(f'Dropped {key}')\n",
    "        Boruta_RESULTS = train_data_series(\n",
    "            LGB_PARAMS_BASE,\n",
    "            DATA_SERIES_900,\n",
    "            iter_columns,\n",
    "            model_suffixes_filter=['l2'])\n",
    "        Boruta_RESULTS.print_errors(\n",
    "            [Boruta_RESULTS],\n",
    "            print_suffixes=['l2'],\n",
    "            print_avg=True,\n",
    "        )"
   ]
  },
  {
   "attachments": {},
   "cell_type": "markdown",
   "metadata": {},
   "source": [
    "There is a drastic increase of RMSE after prev-proc columns are removed. Keep in further analysis."
   ]
  }
 ],
 "metadata": {
  "kernelspec": {
   "display_name": "platforma-rekomendacje-u5ic7oHq-py3.8",
   "language": "python",
   "name": "python3"
  },
  "language_info": {
   "codemirror_mode": {
    "name": "ipython",
    "version": 3
   },
   "file_extension": ".py",
   "mimetype": "text/x-python",
   "name": "python",
   "nbconvert_exporter": "python",
   "pygments_lexer": "ipython3",
   "version": "3.8.10 (default, Nov 14 2022, 12:59:47) \n[GCC 9.4.0]"
  },
  "orig_nbformat": 4,
  "vscode": {
   "interpreter": {
    "hash": "9231912edef09a5c32f4a96f25ed33a69dbcf62a961e8effcc9a220b30c8a9fd"
   }
  }
 },
 "nbformat": 4,
 "nbformat_minor": 2
}
